{
 "cells": [
  {
   "cell_type": "markdown",
   "metadata": {},
   "source": [
    "# SI-Modell"
   ]
  },
  {
   "cell_type": "code",
   "execution_count": null,
   "metadata": {},
   "outputs": [],
   "source": [
    "from iteration import *\n",
    "\n",
    "a = 0.05; b = 0.1;\n",
    "\n",
    "l = iteration(si_modell, x0=[1500, 0], n=500, a=a, b=b)\n",
    "\n",
    "plot_iteration(l)"
   ]
  },
  {
   "cell_type": "code",
   "execution_count": null,
   "metadata": {
    "scrolled": true
   },
   "outputs": [],
   "source": [
    "plt.xlim((0, 1500))\n",
    "plt.ylim((0, 1500))\n",
    "plot_phase_diagramm(l, 'o')"
   ]
  },
  {
   "cell_type": "markdown",
   "metadata": {},
   "source": [
    "## Gleichungssysteme mit Python lösen\n",
    "\n",
    "In der nächsten Zelle finden Sie ein Beispiel wie Sie Gleichungssysteme mit Python lösen können.\n",
    "\n",
    "Wichtig ist hier das Sie alle Variablen die Sie in dem Gleichungssystem verwenden möchten zuerst als Symbole deklarieren müssen (Zeile 3).\n",
    "\n",
    "Das Gleichungssystem ist einfach eine Liste von Gleichungen. Die Gleichungen definieren Sie mit der Funktion `Eq()`. Das erste Argument ist die linke Seite des Gleichheitszeichens, und das zweite Argument ist das was auf der rechten Seite des Gleichheitszeichens steht.\n",
    "\n",
    "Lösen können Sie ein Gleichungssystem mit der `solve()`-Funktion. Hier ist das erste Argument das Gleichungssystem, das Sie lösen möchten. Das zweite Argument ist eine Liste mit den Variablen nach denen Sie das Gleichungssystem auflösen möchten."
   ]
  },
  {
   "cell_type": "code",
   "execution_count": null,
   "metadata": {},
   "outputs": [],
   "source": [
    "from sympy import *\n",
    "\n",
    "a, b = symbols('a b')\n",
    "\n",
    "system = [\n",
    "    Eq(-a*45000 + b*5000, 0),\n",
    "    Eq(a*45000 - b*5000, 0)\n",
    "]\n",
    "\n",
    "res = solve(system, [a, b])\n",
    "print(res)"
   ]
  }
 ],
 "metadata": {
  "kernelspec": {
   "display_name": "Python 3",
   "language": "python",
   "name": "python3"
  },
  "language_info": {
   "codemirror_mode": {
    "name": "ipython",
    "version": 3
   },
   "file_extension": ".py",
   "mimetype": "text/x-python",
   "name": "python",
   "nbconvert_exporter": "python",
   "pygments_lexer": "ipython3",
   "version": "3.8.6"
  }
 },
 "nbformat": 4,
 "nbformat_minor": 4
}
