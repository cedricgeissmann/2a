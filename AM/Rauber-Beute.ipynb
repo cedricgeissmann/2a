{
 "cells": [
  {
   "cell_type": "markdown",
   "metadata": {},
   "source": [
    "# Räuber Beute Modell\n",
    "\n",
    "In diesem Notebook finden Sie allen Code den Sie brauchen um die Aufgaben 32 bis 37 zu lösen."
   ]
  },
  {
   "cell_type": "markdown",
   "metadata": {},
   "source": [
    "In der ersten Zelle finden Sie den Beispielscode den Sie brauchen um die Aufgabe 32 zu lösen. Passen Sie diesen Code an um die restlichen Aufgaben zu lösen.\n",
    "\n",
    "- Die erste Zeile müssen Sie nicht ändern und auch an anderen Orten nicht verwenden, solange diese Zelle ausgeführt wurde.\n",
    "- Spielen Sie mit dem restlichen Code ein wenig herum, bis Sie verstehen was passiert, um dann damit die Aufgaben zu lösen."
   ]
  },
  {
   "cell_type": "code",
   "execution_count": null,
   "metadata": {},
   "outputs": [],
   "source": [
    "from iteration import *\n",
    "\n",
    "a = 0.06; b = 0.002; c = 0.06; d = 0.001\n",
    "\n",
    "l = iteration(rauber_beute, x0=[100, 25], n=500, a=a, b=b, c=c, d=d)\n",
    "\n",
    "plot_iteration(l)"
   ]
  },
  {
   "cell_type": "markdown",
   "metadata": {},
   "source": [
    "## Eigene Zellen\n",
    "\n",
    "Um weitere Aufgaben zu lösen, erstellen Sie eigene Zellen, in denen Sie Ihren Code einfügen.\n",
    "\n",
    "**ACHTUNG:**\n",
    "> Ihr Code wird auf Binder nicht gespeichert, wenn Sie diesen weiter verwenden möchten, müssen Sie den Code selbst speichern."
   ]
  },
  {
   "cell_type": "code",
   "execution_count": null,
   "metadata": {},
   "outputs": [],
   "source": []
  },
  {
   "cell_type": "markdown",
   "metadata": {},
   "source": [
    "## Durchschnitt von Populationen berechnen\n",
    "\n",
    "Den Durchschnitt über eine Population können Sie ganz einfach als den Durchschnitt einer Liste berechnen. Leider ist die Liste, welche die Funktion `iteration()` zurück gibt, nicht in dem Format das wir brauchen. Dafür gibt es aber eine einfache Hilfsfunktion `simple_remap()`. Sie finden diese Funktion auch in `iteration.py`. Die Funktion sortiert die Elemente so um, dass Sie eine Liste mit der Beute und eine Liste mit den Räubern erhalten.\n",
    "\n",
    "In der nächsten Zelle finden Sie ein Beispiel dafür."
   ]
  },
  {
   "cell_type": "code",
   "execution_count": null,
   "metadata": {},
   "outputs": [],
   "source": [
    "# Beispiel für Durchschnitt der Beutetiere\n",
    "\n",
    "better_formatted_list = simple_remap(l)\n",
    "prey = better_formatted_list[0]  # benutzen Sie den Index 1 wenn Sie die Räuber möchten\n",
    "avg_prey = sum(prey)/len(prey)\n",
    "print(\"Durchschnittliche Beute: \" + str(avg_prey))"
   ]
  },
  {
   "cell_type": "markdown",
   "metadata": {},
   "source": [
    "## Phasendiagramm\n",
    "\n",
    "In der nächsten Zelle finden Sie eine Funktion die es Ihnen ermöglicht ein Phasendiagramm zu erstellen."
   ]
  },
  {
   "cell_type": "code",
   "execution_count": null,
   "metadata": {},
   "outputs": [],
   "source": [
    "plt.xlim(0, 250)\n",
    "plt.ylim(0, 250)\n",
    "\n",
    "l = iteration(rauber_beute, x0=[100, 25], n=1050, a=a, b=b, c=c, d=d)\n",
    "\n",
    "plot_phase_diagramm(l, 'o')"
   ]
  }
 ],
 "metadata": {
  "kernelspec": {
   "display_name": "Python 3",
   "language": "python",
   "name": "python3"
  },
  "language_info": {
   "codemirror_mode": {
    "name": "ipython",
    "version": 3
   },
   "file_extension": ".py",
   "mimetype": "text/x-python",
   "name": "python",
   "nbconvert_exporter": "python",
   "pygments_lexer": "ipython3",
   "version": "3.8.6"
  }
 },
 "nbformat": 4,
 "nbformat_minor": 4
}
