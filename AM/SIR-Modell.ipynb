{
 "cells": [
  {
   "cell_type": "markdown",
   "metadata": {},
   "source": [
    "# SIR-Modell"
   ]
  },
  {
   "cell_type": "code",
   "execution_count": null,
   "metadata": {},
   "outputs": [],
   "source": [
    "from iteration import *\n",
    "\n",
    "a = 0.0002; b = 0.1; c = 0.03\n",
    "\n",
    "l = iteration(sir_modell, x0=[990, 10, 0], n=100, a=a, b=b, c=c)\n",
    "\n",
    "plot_iteration(l)"
   ]
  },
  {
   "cell_type": "code",
   "execution_count": null,
   "metadata": {},
   "outputs": [],
   "source": [
    "a = 0.0002; b = 0.1; c = 0.03\n",
    "\n",
    "l = iteration(sir_modell, x0=[990, 10, 0], n=100, a=a, b=b, c=c)\n",
    "\n",
    "plot_iteration(l)"
   ]
  },
  {
   "cell_type": "code",
   "execution_count": null,
   "metadata": {},
   "outputs": [],
   "source": []
  }
 ],
 "metadata": {
  "kernelspec": {
   "display_name": "Python 3",
   "language": "python",
   "name": "python3"
  },
  "language_info": {
   "codemirror_mode": {
    "name": "ipython",
    "version": 3
   },
   "file_extension": ".py",
   "mimetype": "text/x-python",
   "name": "python",
   "nbconvert_exporter": "python",
   "pygments_lexer": "ipython3",
   "version": "3.8.6"
  }
 },
 "nbformat": 4,
 "nbformat_minor": 4
}
