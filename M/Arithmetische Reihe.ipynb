{
 "cells": [
  {
   "cell_type": "markdown",
   "metadata": {
    "slideshow": {
     "slide_type": "slide"
    }
   },
   "source": [
    "# Arithmetische Folge\n",
    "\n",
    "Berechnen des $n$-ten Gliedes der Folge:\n",
    "\n",
    "$$ a_n = a_1 + (n-1)*d$$\n",
    "\n",
    "Berechnen der $n$-ten Partialsumme:\n",
    "\n",
    "$$ s_n = \\frac{n}{2} \\cdot (a_1 + a_n)$$"
   ]
  },
  {
   "cell_type": "code",
   "execution_count": 1,
   "metadata": {
    "slideshow": {
     "slide_type": "fragment"
    }
   },
   "outputs": [],
   "source": [
    "def a_n(a1, n, d):\n",
    "    return a1 + (n - 1) * d\n",
    "\n",
    "\n",
    "def s_n(a1, an, n):\n",
    "    return n/2 * (a1 + an)"
   ]
  },
  {
   "cell_type": "markdown",
   "metadata": {
    "slideshow": {
     "slide_type": "slide"
    }
   },
   "source": [
    "## Berechnen von $n$:\n",
    "\n",
    "Wenn wir $a_n$ in die Formel von $s_n$ einsetzen, erhalten wir die folgende Gleichung:\n",
    "\n",
    "$$ d \\cdot n^2 + (2 \\cdot a_1 - d) \\cdot n - 2 \\cdot s_n = 0$$\n",
    "\n",
    "Diese können wir mit Hilfe der Mitternachtsformel nach $n$ auflösen:\n",
    "\n",
    "$$ n_{1,2} = \\frac{d - 2 \\cdot a_1 \\pm \\sqrt{(2 \\cdot a_1 - d)^2 + 8 \\cdot d \\cdot s_n}}{2\\cdot d}$$"
   ]
  },
  {
   "cell_type": "code",
   "execution_count": 2,
   "metadata": {
    "slideshow": {
     "slide_type": "fragment"
    }
   },
   "outputs": [],
   "source": [
    "import math\n",
    "\n",
    "def n(a1, sn, d):\n",
    "    root = math.sqrt((2 * a1 - d) ** 2 + 8 * d * sn)\n",
    "    return (\n",
    "        (d - 2 * a1 + root) / (2 * d),\n",
    "        (d - 2 * a1 - root) / (2 * d))"
   ]
  },
  {
   "cell_type": "markdown",
   "metadata": {
    "slideshow": {
     "slide_type": "slide"
    }
   },
   "source": [
    "## Übung 300\n",
    "\n",
    "c) Das Amphitheater bietet Platz für 1521 Zuschauer. Wie viele Sitzreihen hat dieses? Wie viele Sitze hat die letzte Sitzreihe?\n",
    "\n",
    "- $a_1 = 25$\n",
    "- $d = 7$\n",
    "- $s_n = 1521$\n",
    "- $a_n = ?$\n",
    "- $n = ?$"
   ]
  },
  {
   "cell_type": "code",
   "execution_count": 3,
   "metadata": {
    "slideshow": {
     "slide_type": "fragment"
    }
   },
   "outputs": [
    {
     "data": {
      "text/plain": [
       "(18.0, -24.142857142857142)"
      ]
     },
     "execution_count": 3,
     "metadata": {},
     "output_type": "execute_result"
    }
   ],
   "source": [
    "# Berechnen von n mit der Formel von oben\n",
    "\n",
    "n(25, 1521, 7)"
   ]
  },
  {
   "cell_type": "code",
   "execution_count": 4,
   "metadata": {
    "slideshow": {
     "slide_type": "fragment"
    }
   },
   "outputs": [
    {
     "data": {
      "text/plain": [
       "144"
      ]
     },
     "execution_count": 4,
     "metadata": {},
     "output_type": "execute_result"
    }
   ],
   "source": [
    "# Berechnen von a_n mit der Formel von oben\n",
    "\n",
    "a_n(25, 18, 7)"
   ]
  },
  {
   "cell_type": "markdown",
   "metadata": {
    "slideshow": {
     "slide_type": "slide"
    }
   },
   "source": [
    "## Übung 301\n",
    "\n",
    "Berechnen Sie die Summe aller 3-stelligen Zahlen, welche durch 7 teilbar sind.\n",
    "\n",
    "- $d = 7$\n",
    "- $a_1 = ?$\n",
    "- $a_n = ?$\n",
    "- $n = ?$"
   ]
  },
  {
   "cell_type": "markdown",
   "metadata": {
    "slideshow": {
     "slide_type": "fragment"
    }
   },
   "source": [
    "$a_1$ erhalten wir wie folgt:\n",
    "\n",
    "$$100\\ \\mathrm{mod}\\ 7 = 0, \\\\101\\ \\mathrm{mod}\\ 7 = 0, \\\\ \\vdots$$"
   ]
  },
  {
   "cell_type": "code",
   "execution_count": 5,
   "metadata": {
    "slideshow": {
     "slide_type": "fragment"
    }
   },
   "outputs": [
    {
     "name": "stdout",
     "output_type": "stream",
     "text": [
      "a_1: 105\n"
     ]
    }
   ],
   "source": [
    "a1 = 100\n",
    "while(a1 % 7 != 0):\n",
    "    a1 += 1\n",
    "    \n",
    "print(f\"a_1: {a1}\")"
   ]
  },
  {
   "cell_type": "markdown",
   "metadata": {
    "slideshow": {
     "slide_type": "slide"
    }
   },
   "source": [
    "$a_n$ erhalten wir ähnlich wie $a_1$:\n",
    "\n",
    "$$999\\ \\mathrm{mod}\\ 7 = 0, \\\\998\\ \\mathrm{mod}\\ 7 = 0, \\\\ \\vdots$$"
   ]
  },
  {
   "cell_type": "code",
   "execution_count": 6,
   "metadata": {
    "slideshow": {
     "slide_type": "fragment"
    }
   },
   "outputs": [
    {
     "name": "stdout",
     "output_type": "stream",
     "text": [
      "a_n: 994\n"
     ]
    }
   ],
   "source": [
    "an = 999\n",
    "while(an % 7 != 0):\n",
    "    an -= 1\n",
    "    \n",
    "print(f\"a_n: {an}\")"
   ]
  },
  {
   "cell_type": "markdown",
   "metadata": {
    "slideshow": {
     "slide_type": "slide"
    }
   },
   "source": [
    "## Berechnen von $n$:\n",
    "\n",
    "In diesem Fall können wir $n$ einfacher berechnen:\n",
    "\n",
    "$$ n = \\frac{a_n - a_1}{d} + 1$$"
   ]
  },
  {
   "cell_type": "code",
   "execution_count": 7,
   "metadata": {
    "slideshow": {
     "slide_type": "fragment"
    }
   },
   "outputs": [
    {
     "data": {
      "text/plain": [
       "128.0"
      ]
     },
     "execution_count": 7,
     "metadata": {},
     "output_type": "execute_result"
    }
   ],
   "source": [
    "def n_einfach(a1, an, d):\n",
    "    return (an - a1) / d + 1\n",
    "\n",
    "n_einfach(105, 994, 7)"
   ]
  },
  {
   "cell_type": "markdown",
   "metadata": {
    "slideshow": {
     "slide_type": "slide"
    }
   },
   "source": [
    "## Übung 301\n",
    "\n",
    "Berechnen Sie die Summe aller 3-stelligen Zahlen, welche durch 7 teilbar sind.\n",
    "\n",
    "- $d = 7$\n",
    "- $a_1 = 105$\n",
    "- $a_n = 994$\n",
    "- $n = 128$\n",
    "\n",
    "Jetzt haben wir alles gefunden und können $s_n$ berechnen."
   ]
  },
  {
   "cell_type": "code",
   "execution_count": 8,
   "metadata": {
    "slideshow": {
     "slide_type": "fragment"
    }
   },
   "outputs": [
    {
     "data": {
      "text/plain": [
       "70336.0"
      ]
     },
     "execution_count": 8,
     "metadata": {},
     "output_type": "execute_result"
    }
   ],
   "source": [
    "s_n(105, 994, 128)"
   ]
  },
  {
   "cell_type": "markdown",
   "metadata": {
    "slideshow": {
     "slide_type": "slide"
    }
   },
   "source": [
    "## Aufgabe 302\n",
    "\n",
    "Selbstständig lösen"
   ]
  },
  {
   "cell_type": "markdown",
   "metadata": {
    "slideshow": {
     "slide_type": "slide"
    }
   },
   "source": [
    "## Aufgabe 303\n",
    "\n",
    "Selbstständig lösen"
   ]
  },
  {
   "cell_type": "markdown",
   "metadata": {
    "slideshow": {
     "slide_type": "slide"
    }
   },
   "source": [
    "## Aufgabe 304\n",
    "\n",
    "Gleichungssystem an der Tafel vorbereiten"
   ]
  },
  {
   "cell_type": "code",
   "execution_count": 9,
   "metadata": {
    "slideshow": {
     "slide_type": "fragment"
    }
   },
   "outputs": [
    {
     "data": {
      "text/plain": [
       "[(4, 2, -13), (4, 2, 10)]"
      ]
     },
     "execution_count": 9,
     "metadata": {},
     "output_type": "execute_result"
    }
   ],
   "source": [
    "from sympy import *\n",
    "\n",
    "a, d, m = symbols('a d m')\n",
    "\n",
    "system = [\n",
    "    2*a + 4*d - 16,\n",
    "    (a + d) * (a + 2*d) - 48,\n",
    "    m/2 * (2*a + (m - 1)*d) - 130\n",
    "]\n",
    "\n",
    "solve(system, (a, d, m))"
   ]
  },
  {
   "cell_type": "markdown",
   "metadata": {
    "slideshow": {
     "slide_type": "slide"
    }
   },
   "source": [
    "## Aufgabe 305\n",
    "\n",
    "Gleichungssystem selbstständig vorbereiten"
   ]
  },
  {
   "cell_type": "code",
   "execution_count": 10,
   "metadata": {
    "slideshow": {
     "slide_type": "fragment"
    }
   },
   "outputs": [
    {
     "data": {
      "text/plain": [
       "[(-1, 5), (451/4, -45/4)]"
      ]
     },
     "execution_count": 10,
     "metadata": {},
     "output_type": "execute_result"
    }
   ],
   "source": [
    "from sympy import *\n",
    "\n",
    "a, d = symbols('a d')\n",
    "\n",
    "system = [\n",
    "    a + 3 * d + a + 11 * d - 68,\n",
    "    sqrt(a + 2 * d) + sqrt(a + 10 * d) - 10\n",
    "]\n",
    "\n",
    "solve(system, (a, d))"
   ]
  },
  {
   "cell_type": "code",
   "execution_count": 11,
   "metadata": {
    "slideshow": {
     "slide_type": "subslide"
    }
   },
   "outputs": [
    {
     "name": "stdout",
     "output_type": "stream",
     "text": [
      "a_2: 4\n",
      "a_12: 54\n"
     ]
    }
   ],
   "source": [
    "# Für die erste Lösung\n",
    "\n",
    "a1 = -1\n",
    "d = 5\n",
    "\n",
    "a2 = a_n(a1, 2, 5)\n",
    "print(f'a_2: {a2}')\n",
    "\n",
    "a12 = a_n(a1, 12, 5)\n",
    "print(f'a_12: {a12}')"
   ]
  },
  {
   "cell_type": "code",
   "execution_count": 12,
   "metadata": {
    "slideshow": {
     "slide_type": "subslide"
    }
   },
   "outputs": [
    {
     "name": "stdout",
     "output_type": "stream",
     "text": [
      "a_2: 101.5\n",
      "a_12: -11.0\n"
     ]
    }
   ],
   "source": [
    "# Für die zweite Lösung\n",
    "\n",
    "a1 = 451/4\n",
    "d = -45/4\n",
    "\n",
    "a2 = a_n(a1, 2, d)\n",
    "print(f'a_2: {a2}')\n",
    "\n",
    "a12 = a_n(a1, 12, d)\n",
    "print(f'a_12: {a12}')"
   ]
  }
 ],
 "metadata": {
  "celltoolbar": "Slideshow",
  "kernelspec": {
   "display_name": "Python 3",
   "language": "python",
   "name": "python3"
  },
  "language_info": {
   "codemirror_mode": {
    "name": "ipython",
    "version": 3
   },
   "file_extension": ".py",
   "mimetype": "text/x-python",
   "name": "python",
   "nbconvert_exporter": "python",
   "pygments_lexer": "ipython3",
   "version": "3.8.6"
  }
 },
 "nbformat": 4,
 "nbformat_minor": 4
}
